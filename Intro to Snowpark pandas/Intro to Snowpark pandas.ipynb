{
  "cells": [
    {
      "cell_type": "markdown",
      "id": "9997baf8",
      "metadata": {},
      "source": [
        "## This repo has been moved\n",
        "\n",
        "Visit [this Github repo](https://github.com/Snowflake-Labs/sfguide-getting-started-with-pandas-on-snowflake) to see the full quickstart source code."
      ]
    }
  ],
  "metadata": {
    "kernelspec": {
      "display_name": "Python 3 (ipykernel)",
      "language": "python",
      "name": "python3"
    },
    "language_info": {
      "codemirror_mode": {
        "name": "ipython",
        "version": 3
      },
      "file_extension": ".py",
      "mimetype": "text/x-python",
      "name": "python",
      "nbconvert_exporter": "python",
      "pygments_lexer": "ipython3",
      "version": "3.9.19"
    }
  },
  "nbformat": 4,
  "nbformat_minor": 5
}
