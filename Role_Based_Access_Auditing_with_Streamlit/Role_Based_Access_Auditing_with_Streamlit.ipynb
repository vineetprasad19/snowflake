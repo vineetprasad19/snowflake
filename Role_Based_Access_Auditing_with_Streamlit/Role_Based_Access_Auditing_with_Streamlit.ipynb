{
 "metadata": {
  "kernelspec": {
   "display_name": "Streamlit Notebook",
   "name": "streamlit"
  }
 },
 "nbformat_minor": 5,
 "nbformat": 4,
 "cells": [
  {
   "cell_type": "markdown",
   "id": "cc4fb15e-f9db-44eb-9f60-1b9589b755cb",
   "metadata": {
    "name": "md_title",
    "collapsed": false,
    "resultHeight": 551
   },
   "source": "# Role-Based Access Auditing in Snowflake Notebooks with Streamlit\n\nA utility notebook to audit and report on user roles and privileges, ensuring adherence to security policies.\n\nHere's what we're implementing:\n1. User Role Analysis\n2. Role Grant Analysis\n\nFor each of these implementation, we're doing the following:\n1. SQL query for retrieving the data\n2. Converting data to a Pandas DataFrame\n3. Preparing and reshaping the data\n4. Creating a dashboard with Streamlit and Altair"
  },
  {
   "cell_type": "markdown",
   "id": "6d90f1b1-315e-4cde-a397-8e8ff8467fe0",
   "metadata": {
    "name": "md_user_role",
    "collapsed": false,
    "resultHeight": 204
   },
   "source": "## 1. User Role Analysis\n\nFirst, we'll start by retrieving user details (name, disabled status, last login, creation date) and their active role assignments (granted roles, who granted them, when granted) by joining the USERS and GRANTS_TO_USERS tables."
  },
  {
   "cell_type": "code",
   "id": "1e72bf27-b152-40a3-85e9-99e4b67cf8eb",
   "metadata": {
    "language": "sql",
    "name": "sql_user_role",
    "resultHeight": 439,
    "collapsed": false,
    "codeCollapsed": false
   },
   "outputs": [],
   "source": "SELECT \n    u.name,\n    u.disabled,\n    u.last_success_login,\n    u.created_on as user_created_on,\n    g.role as granted_role,\n    g.granted_by,\n    g.created_on as grant_created_on\nFROM \n    SNOWFLAKE.ACCOUNT_USAGE.USERS u\nLEFT JOIN \n    SNOWFLAKE.ACCOUNT_USAGE.GRANTS_TO_USERS g\n    ON u.name = g.grantee_name\nWHERE \n    g.deleted_on IS NULL\nORDER BY \n    u.name, g.role;",
   "execution_count": null
  },
  {
   "cell_type": "markdown",
   "id": "9da1de7e-1489-4d48-9634-a2f08a00667b",
   "metadata": {
    "name": "md_df_user_role",
    "collapsed": false,
    "resultHeight": 41
   },
   "source": "Next, we'll convert the above SQL query output to a Pandas DataFrame."
  },
  {
   "cell_type": "code",
   "id": "3c5d60de-212a-4b7a-a3da-6ed6d15fa7ee",
   "metadata": {
    "language": "python",
    "name": "df_user_role",
    "codeCollapsed": false,
    "collapsed": false,
    "resultHeight": 439
   },
   "outputs": [],
   "source": "sql_user_role.to_pandas()",
   "execution_count": null
  },
  {
   "cell_type": "markdown",
   "id": "bb7b86d1-5b36-4b05-a58d-fea830d30ab7",
   "metadata": {
    "name": "md_prepare_user_role",
    "collapsed": false,
    "resultHeight": 41
   },
   "source": "Then, we'll prepare the data for subsequent data visualization."
  },
  {
   "cell_type": "code",
   "id": "2dc63ec1-0b35-43cb-bcd3-f914cc1525c2",
   "metadata": {
    "language": "python",
    "name": "py_prepare_user_role",
    "collapsed": false,
    "resultHeight": 0
   },
   "outputs": [],
   "source": "# Create user activity matrix\nuser_activity = (\n    # Group by user and role, count occurrences\n    df_user_role.groupby(['NAME', 'GRANTED_ROLE']) \n    .size()\n    .reset_index()\n    .pivot(index='NAME', columns='GRANTED_ROLE', values=0) \n    .fillna(0)\n)\n\n# Convert to long format for heatmap\nuser_activity_long = user_activity.reset_index().melt(\n    id_vars=['NAME'],\n    var_name='ROLE',\n    value_name='HAS_ROLE'\n)\n\n# Add user status information - now using the same dataframe\nuser_status = df_user_role[['NAME', 'DISABLED', 'LAST_SUCCESS_LOGIN']].drop_duplicates()\nuser_activity_long = user_activity_long.merge(\n    user_status,\n    on='NAME',  # Changed from left_on/right_on to simple on\n    how='left'\n)",
   "execution_count": null
  },
  {
   "cell_type": "markdown",
   "id": "9eece958-ec03-4f00-993e-409f5341c10e",
   "metadata": {
    "name": "md_st_user_role",
    "collapsed": false,
    "resultHeight": 41
   },
   "source": "Finally, we'll use Streamlit to create a simple dashboard for user analysis."
  },
  {
   "cell_type": "code",
   "id": "575f9fe0-e16e-46d2-89c8-cca014a47314",
   "metadata": {
    "language": "python",
    "name": "py_st_user_role",
    "codeCollapsed": false,
    "resultHeight": 1277,
    "collapsed": false
   },
   "outputs": [],
   "source": "import pandas as pd\nimport altair as alt\nimport streamlit as st\n\nst.title(\"User Analysis Dashboard\")\n\n# Streamlit filters\ncol1, col2 = st.columns(2)\nwith col1:\n    selected_users = st.multiselect(\n        'Select Users',\n        options=sorted(user_activity_long['NAME'].unique()),\n        default=sorted(user_activity_long['NAME'].unique())\n    )\nwith col2:\n    selected_roles = st.multiselect(\n        'Select Roles',\n        options=sorted(user_activity_long['ROLE'].unique()),\n        default=sorted(user_activity_long['ROLE'].unique())\n    )\n\n# Filter data based on selections\nfiltered_data = user_activity_long[\n    user_activity_long['NAME'].isin(selected_users) & \n    user_activity_long['ROLE'].isin(selected_roles)\n]\n\n# Display summary metrics\nwith st.expander(\"View Summary Metrics\", expanded=True):\n    metric_col1, metric_col2, metric_col3 = st.columns(3)\n    with metric_col1:\n        st.metric(\"Selected Users\", len(selected_users))\n    with metric_col2:\n        st.metric(\"Selected Roles\", len(selected_roles))\n    with metric_col3:\n        st.metric(\"Total Assignments\", len(filtered_data[filtered_data['HAS_ROLE'] > 0]))\n\n# Create styled heatmap\nheatmap = alt.Chart(filtered_data).mark_rect(\n    stroke='black',\n    strokeWidth=1\n).encode(\n    x=alt.X('ROLE:N', \n            title='Roles',\n            axis=alt.Axis(\n                labels=True,\n                tickMinStep=1,\n                labelOverlap=False,\n                labelPadding=10\n            )),\n    y=alt.Y('NAME:N', \n            title='Users',\n            axis=alt.Axis(\n                labels=True,\n                labelLimit=200,\n                tickMinStep=1,\n                labelOverlap=False,\n                labelPadding=10\n            )),\n    color=alt.Color('HAS_ROLE:Q', \n                   title='Has Role',\n                   scale=alt.Scale(scheme='blues')),\n    tooltip=[\n        alt.Tooltip('NAME:N', title='User'),\n        alt.Tooltip('ROLE:N', title='Role'),\n        alt.Tooltip('HAS_ROLE:Q', title='Has Role'),\n        alt.Tooltip('DISABLED:N', title='Is Disabled'),\n        alt.Tooltip('LAST_SUCCESS_LOGIN:T', title='Last Login')\n    ]\n).properties(\n    title='User Role Assignment Matrix'\n).configure_view(\n    stroke=None,\n    continuousHeight=400\n).configure_axis(\n    labelFontSize=10\n)\n\n# Display the chart\nst.altair_chart(heatmap, use_container_width=True)\n\nwith st.expander(\"View DataFrame\"):\n    st.dataframe(filtered_data)",
   "execution_count": null
  },
  {
   "cell_type": "markdown",
   "id": "14473e03-2a00-41b4-873a-0d7e6b810c9a",
   "metadata": {
    "name": "md_role_grants",
    "collapsed": false,
    "resultHeight": 153
   },
   "source": "## 2. Role Grant Analysis\n\nSecondly, we'll craft a SQL query to show all active privileges granted to roles, including what type of privilege was granted, what object it was granted on, the specific object name, who granted it and when it was created."
  },
  {
   "cell_type": "code",
   "id": "dc1bb3f3-0eb6-4740-8c25-0c3938c9668f",
   "metadata": {
    "language": "sql",
    "name": "sql_role_grants",
    "codeCollapsed": false,
    "resultHeight": 511,
    "collapsed": false
   },
   "outputs": [],
   "source": "SELECT \n    grantee_name,\n    privilege,\n    granted_on,\n    name as object_name,\n    granted_by,\n    created_on\nFROM SNOWFLAKE.ACCOUNT_USAGE.GRANTS_TO_ROLES\nWHERE deleted_on IS NULL;",
   "execution_count": null
  },
  {
   "cell_type": "markdown",
   "id": "bfdf0b7c-e33f-4a85-ac9a-2425535cef86",
   "metadata": {
    "name": "md_df_role_grants",
    "collapsed": false,
    "resultHeight": 41
   },
   "source": "Then, we'll prepare the data for subsequent data visualization."
  },
  {
   "cell_type": "code",
   "id": "b4a7bf1a-8d77-4428-8054-b8683b5f5af7",
   "metadata": {
    "language": "python",
    "name": "df_role_grants",
    "collapsed": false,
    "resultHeight": 439
   },
   "outputs": [],
   "source": "sql_role_grants.to_pandas()",
   "execution_count": null
  },
  {
   "cell_type": "markdown",
   "id": "711f2d6c-8c15-482d-85fb-e4e98031b268",
   "metadata": {
    "name": "md_st_role_grants",
    "collapsed": false,
    "resultHeight": 83
   },
   "source": "Finally, we'll use Streamlit to create a simple dashboard for role grant analysis.\n\nGo ahead and adjust the select box widgets for **privileges** and **object types**."
  },
  {
   "cell_type": "code",
   "id": "5e047ba1-9976-477b-a2d4-db8ad7f24c45",
   "metadata": {
    "language": "python",
    "name": "py_st_role_grants",
    "codeCollapsed": false,
    "resultHeight": 1131,
    "collapsed": false
   },
   "outputs": [],
   "source": "import pandas as pd\nimport altair as alt\n\nst.title(\"Role Grant Dashboard\")\n\n# Create selectboxes for filtering\ncol1, col2 = st.columns(2)\nwith col1:\n    selected_privilege = st.multiselect(\n        'Select Privileges',\n        options=sorted(df_role_grants['PRIVILEGE'].unique()),\n        default=sorted(df_role_grants['PRIVILEGE'].unique())[:10]\n    )\n\nwith col2:\n    selected_granted_on = st.multiselect(\n        'Select Object Types',\n        options=sorted(df_role_grants['GRANTED_ON'].unique()),\n        default=sorted(df_role_grants['GRANTED_ON'].unique())\n    )\n\n# Filter data\nfiltered_df = df_role_grants[\n    df_role_grants['PRIVILEGE'].isin(selected_privilege) &\n    df_role_grants['GRANTED_ON'].isin(selected_granted_on)\n]\n\n# Show summary metrics\nwith st.expander(\"View Summary Metrics\", expanded=True):\n    metric_col1, metric_col2 = st.columns(2)\n    \n    with metric_col1:\n        st.metric(\"Total Role Grants\", len(filtered_df))\n    \n    with metric_col2:\n        st.metric(\"Unique Users\", filtered_df['GRANTEE_NAME'].nunique())\n\n# Create Top N user chart\ntop_N_chart = alt.Chart(filtered_df).mark_bar(\n    stroke='black',\n    strokeWidth=1\n).encode(\n    x=alt.X('count():Q', \n            title='Number of Role Grants',\n            axis=alt.Axis(\n                labels=True,\n                tickMinStep=1,\n                labelOverlap=False\n            )),\n    y=alt.Y('GRANTEE_NAME:N', \n            title='Users',\n            sort='-x',\n            axis=alt.Axis(\n                labels=True,\n                labelLimit=200,\n                tickMinStep=1,\n                labelOverlap=False,\n                labelPadding=10\n            )),\n    color=alt.Color('PRIVILEGE:N', \n                   title='Privilege Type'),\n    tooltip=[\n        alt.Tooltip('GRANTEE_NAME:N', title='Users'),\n        alt.Tooltip('count():Q', title='Total Grants'),\n        alt.Tooltip('PRIVILEGE:N', title='Privilege Type'),\n        alt.Tooltip('GRANTED_ON:N', title='Granted On')\n    ]\n).transform_window(\n    rank='rank(count())',\n    sort=[alt.SortField('count()', order='descending')]\n).transform_filter(\n    alt.datum.rank <= 20\n).properties(\n    title='Top N Users by Number of Role Grants'\n).configure_view(\n    stroke=None,\n    continuousHeight=400\n).configure_axis(\n    labelFontSize=10\n)\n\n# Display chart\nst.altair_chart(top_N_chart, use_container_width=True)",
   "execution_count": null
  },
  {
   "cell_type": "markdown",
   "id": "bb08b81b-6d62-4d11-8ece-6d22fcfe6eb8",
   "metadata": {
    "name": "md_resources",
    "collapsed": false,
    "resultHeight": 217
   },
   "source": "## Want to learn more?\n\n- Snowflake Docs on [Account Usage](https://docs.snowflake.com/en/sql-reference/account-usage), [USERS view](https://docs.snowflake.com/en/sql-reference/account-usage/users) and [GRANTS_TO_USERS](https://docs.snowflake.com/en/sql-reference/account-usage/grants_to_users)\n- More about [Snowflake Notebooks](https://docs.snowflake.com/en/user-guide/ui-snowsight/notebooks-use-with-snowflake)\n- For more inspiration on how to use Streamlit widgets in Notebooks, check out [Streamlit Docs](https://docs.streamlit.io/) and this list of what is currently supported inside [Snowflake Notebooks](https://docs.snowflake.com/en/user-guide/ui-snowsight/notebooks-use-with-snowflake#label-notebooks-streamlit-support)\n- Check out the [Altair User Guide](https://altair-viz.github.io/user_guide/data.html) for further information on customizing Altair charts"
  }
 ]
}