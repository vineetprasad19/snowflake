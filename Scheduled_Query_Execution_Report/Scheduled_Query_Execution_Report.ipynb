{
 "metadata": {
  "kernelspec": {
   "display_name": "Streamlit Notebook",
   "name": "streamlit"
  }
 },
 "nbformat_minor": 5,
 "nbformat": 4,
 "cells": [
  {
   "cell_type": "markdown",
   "id": "cc4fb15e-f9db-44eb-9f60-1b9589b755cb",
   "metadata": {
    "name": "md_title",
    "collapsed": false,
    "resultHeight": 285
   },
   "source": "# Scheduled Query Execution Report\n\nA notebook to report on failed or long-running scheduled queries, providing insights into reliability issues.\n\nHere's a breakdown of the steps:\n1. Retrieve Data\n2. Convert Table to a DataFrame\n3. Create an Interactive Slider Widget & Data Preparation\n4. Create a Heatmap for Visualizing Scheduled Query Execution"
  },
  {
   "cell_type": "markdown",
   "id": "42a7b143-0779-4706-affc-c214213f55c5",
   "metadata": {
    "name": "md_retrieve_data",
    "collapsed": false,
    "resultHeight": 170
   },
   "source": "## 1. Retrieve Data\n\nFirstly, we'll write an SQL query to retrieve the execution history for scheduled queries, along with their status, timing metrics, and execution status. \n\nWe're obtaining this from the `snowflake.account_usage.task_history` table."
  },
  {
   "cell_type": "code",
   "id": "39f7713b-dd7a-41a2-872e-cc534c6dc4f6",
   "metadata": {
    "language": "sql",
    "name": "sql_data",
    "resultHeight": 439,
    "collapsed": false,
    "codeCollapsed": false
   },
   "outputs": [],
   "source": "SELECT \n    name,\n    database_name,\n    query_id,\n    query_text,\n    schema_name,\n    scheduled_time,\n    query_start_time,\n    completed_time,\n    DATEDIFF('second', query_start_time, completed_time) as execution_time_seconds,\n    state,\n    error_code,\n    error_message,\nFROM snowflake.account_usage.task_history\nWHERE scheduled_time >= DATEADD(days, -1, CURRENT_TIMESTAMP())\nORDER BY scheduled_time DESC;",
   "execution_count": null
  },
  {
   "cell_type": "markdown",
   "id": "870b69dd-aae0-4dd3-93f7-7adce1268159",
   "metadata": {
    "name": "md_dataframe",
    "collapsed": false,
    "resultHeight": 102
   },
   "source": "## 2. Convert Table to a DataFrame\n\nNext, we'll convert the table to a Pandas DataFrame."
  },
  {
   "cell_type": "code",
   "id": "4a5559a8-ef3a-40c3-a9d5-54602403adab",
   "metadata": {
    "language": "python",
    "name": "py_dataframe",
    "codeCollapsed": false,
    "resultHeight": 439,
    "collapsed": false
   },
   "outputs": [],
   "source": "sql_data.to_pandas()",
   "execution_count": null
  },
  {
   "cell_type": "markdown",
   "id": "59b04137-ca95-4fb8-b216-133272349a78",
   "metadata": {
    "name": "md_data_preparation",
    "collapsed": false,
    "resultHeight": 195
   },
   "source": "## 3. Create an Interactive Slider Widget & Data Preparation\n\nHere, we'll create an interactive slider for dynamically selecting the number of days to analyze. This would then trigger the filtering of the DataFrame to the specified number of days.\n\nNext, we'll reshape the data by calculating the frequency count by hour and task name, which will subsequently be used for creating the heatmap in the next step."
  },
  {
   "cell_type": "code",
   "id": "ba8fa564-d7d5-4d1c-9f6b-400f9c05ecae",
   "metadata": {
    "language": "python",
    "name": "py_data_preparation",
    "codeCollapsed": false,
    "resultHeight": 216
   },
   "outputs": [],
   "source": "import pandas as pd\nimport streamlit as st\nimport altair as alt\n\n# Create date filter slider\nst.subheader(\"Select time duration\")\ndays = st.slider('Select number of days to analyze', \n                 min_value=10, \n                 max_value=90, \n                 value=30, \n                 step=10)\n    \n# Filter data according to day duration\nlatest_date = pd.to_datetime(df['SCHEDULED_TIME']).max()\ncutoff_date = latest_date - pd.Timedelta(days=days)\nfiltered_df = df[pd.to_datetime(df['SCHEDULED_TIME']) > cutoff_date].copy()\n    \n# Prepare data for heatmap\nfiltered_df['HOUR_OF_DAY'] = pd.to_datetime(filtered_df['SCHEDULED_TIME']).dt.hour\nfiltered_df['HOUR_DISPLAY'] = filtered_df['HOUR_OF_DAY'].apply(lambda x: f\"{x:02d}:00\")\n    \n# Calculate frequency count by hour and task name\nagg_df = filtered_df.groupby(['NAME', 'HOUR_DISPLAY', 'STATE']).size().reset_index(name='COUNT')\n\nst.warning(f\"Analyzing data for the last {days} days!\")",
   "execution_count": null
  },
  {
   "cell_type": "markdown",
   "id": "35f31e4e-95d5-4ee5-a146-b9e93dd9d570",
   "metadata": {
    "name": "md_heatmap",
    "collapsed": false,
    "resultHeight": 128
   },
   "source": "## 4. Create a Heatmap for Visualizing Scheduled Query Execution\n\nFinally, a heatmap and summary statistics table are generated that will allow us to gain insights on the task name and state (e.g. `SUCCEEDED`, `FAILED`, `SKIPPED`)."
  },
  {
   "cell_type": "code",
   "id": "e3049001-f3ba-4b66-ba54-c9f02f551992",
   "metadata": {
    "language": "python",
    "name": "py_heatmap",
    "codeCollapsed": false,
    "resultHeight": 791
   },
   "outputs": [],
   "source": "# Create heatmap\nchart = alt.Chart(agg_df).mark_rect(\n    stroke='black',\n    strokeWidth=1\n).encode(\n    x=alt.X('HOUR_DISPLAY:O', \n            title='Hour of Day',\n            axis=alt.Axis(\n                labels=True,\n                tickMinStep=1,\n                labelOverlap=False\n            )),\n    y=alt.Y('NAME:N', \n            title='',\n            axis=alt.Axis(\n                labels=True,\n                labelLimit=200,\n                tickMinStep=1,\n                labelOverlap=False,\n                labelPadding=10\n            )),\n    color=alt.Color('COUNT:Q', \n                    title='Number of Executions'),\n    row=alt.Row('STATE:N', \n                title='Task State',\n                header=alt.Header(labelAlign='left')),\n    tooltip=[\n        alt.Tooltip('NAME', title='Task Name'),\n        alt.Tooltip('HOUR_DISPLAY', title='Hour'),\n        alt.Tooltip('STATE', title='State'),\n        alt.Tooltip('COUNT', title='Number of Executions')\n    ]\n).properties(\n    height=100,\n    width=450\n).configure_view(\n    stroke=None,\n    continuousWidth=300\n).configure_axis(\n    labelFontSize=10\n)\n\n# Display the chart\nst.subheader(f'Task Execution Frequency by State ({days} Days)')\nst.altair_chart(chart)\n\n# Optional: Display summary statistics\nst.subheader(\"Summary Statistics\")\nsummary_df = filtered_df.groupby('NAME').agg({\n    'STATE': lambda x: pd.Series(x).value_counts().to_dict()\n}).reset_index()\n\n# Format the state counts as separate columns\nstate_counts = pd.json_normalize(summary_df['STATE']).fillna(0).astype(int)\nsummary_df = pd.concat([summary_df['NAME'], state_counts], axis=1)\n\nst.dataframe(summary_df)",
   "execution_count": null
  },
  {
   "cell_type": "markdown",
   "id": "eb3e9b67-6a6e-4218-b17a-3f8564a04d18",
   "metadata": {
    "name": "md_resources",
    "collapsed": false,
    "resultHeight": 217
   },
   "source": "## Want to learn more?\n\n- Snowflake Docs on [Account Usage](https://docs.snowflake.com/en/sql-reference/account-usage) and [TASK_HISTORY view](https://docs.snowflake.com/en/sql-reference/account-usage/task_history)\n- More about [Snowflake Notebooks](https://docs.snowflake.com/en/user-guide/ui-snowsight/notebooks-use-with-snowflake)\n- For more inspiration on how to use Streamlit widgets in Notebooks, check out [Streamlit Docs](https://docs.streamlit.io/) and this list of what is currently supported inside [Snowflake Notebooks](https://docs.snowflake.com/en/user-guide/ui-snowsight/notebooks-use-with-snowflake#label-notebooks-streamlit-support)\n- Check out the [Altair User Guide](https://altair-viz.github.io/user_guide/data.html) for further information on customizing Altair charts"
  }
 ]
}