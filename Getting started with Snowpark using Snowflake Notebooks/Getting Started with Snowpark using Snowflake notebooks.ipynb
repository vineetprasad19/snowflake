{
 "cells": [
  {
   "cell_type": "markdown",
   "id": "e41f588b",
   "metadata": {},
   "source": [
    "## This repo has been moved\n",
    "\n",
    "Visit [this Github repo](https://github.com/Snowflake-Labs/sfguide-getting-started-with-snowpark-in-worksheets-notebooks) to see the full quickstart source code."
   ]
  }
 ],
 "metadata": {
  "kernelspec": {
   "display_name": "Streamlit Notebook",
   "name": "streamlit"
  }
 },
 "nbformat": 4,
 "nbformat_minor": 5
}
